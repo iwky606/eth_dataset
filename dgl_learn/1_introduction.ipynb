{
 "cells": [
  {
   "cell_type": "markdown",
   "metadata": {},
   "source": [
    "\n# Node Classification with DGL\n\nGNNs are powerful tools for many machine learning tasks on graphs. In\nthis introductory tutorial, you will learn the basic workflow of using\nGNNs for node classification, i.e. predicting the category of a node in\na graph.\n\nBy completing this tutorial, you will be able to\n\n-  Load a DGL-provided dataset.\n-  Build a GNN model with DGL-provided neural network modules.\n-  Train and evaluate a GNN model for node classification on either CPU\n   or GPU.\n\nThis tutorial assumes that you have experience in building neural\nnetworks with PyTorch.\n\n(Time estimate: 13 minutes)\n"
   ]
  },
  {
   "cell_type": "code",
   "metadata": {
    "collapsed": false,
    "ExecuteTime": {
     "end_time": "2025-05-04T06:31:59.075747Z",
     "start_time": "2025-05-04T06:31:56.117912Z"
    }
   },
   "source": [
    "import os\n\nos.environ[\"DGLBACKEND\"] = \"pytorch\"\nimport dgl\nimport dgl.data\nimport torch\nimport torch.nn as nn\nimport torch.nn.functional as F"
   ],
   "outputs": [],
   "execution_count": 1
  },
  {
   "cell_type": "markdown",
   "metadata": {},
   "source": [
    "## Overview of Node Classification with GNN\n\nOne of the most popular and widely adopted tasks on graph data is node\nclassification, where a model needs to predict the ground truth category\nof each node. Before graph neural networks, many proposed methods are\nusing either connectivity alone (such as DeepWalk or node2vec), or simple\ncombinations of connectivity and the node's own features.  GNNs, by\ncontrast, offers an opportunity to obtain node representations by\ncombining the connectivity and features of a *local neighborhood*.\n\n[Kipf et\nal.,](https://arxiv.org/abs/1609.02907)_ is an example that formulates\nthe node classification problem as a semi-supervised node classification\ntask. With the help of only a small portion of labeled nodes, a graph\nneural network (GNN) can accurately predict the node category of the\nothers.\n\nThis tutorial will show how to build such a GNN for semi-supervised node\nclassification with only a small number of labels on the Cora\ndataset,\na citation network with papers as nodes and citations as edges. The task\nis to predict the category of a given paper. Each paper node contains a\nword count vector as its features, normalized so that they sum up to one,\nas described in Section 5.2 of\n[the paper](https://arxiv.org/abs/1609.02907)_.\n\n## Loading Cora Dataset\n\n\n"
   ]
  },
  {
   "cell_type": "code",
   "metadata": {
    "collapsed": false,
    "ExecuteTime": {
     "end_time": "2025-05-04T06:33:52.760734Z",
     "start_time": "2025-05-04T06:33:51.723499Z"
    }
   },
   "source": [
    "dataset = dgl.data.CoraGraphDataset()\nprint(f\"Number of categories: {dataset.num_classes}\")"
   ],
   "outputs": [
    {
     "name": "stdout",
     "output_type": "stream",
     "text": [
      "Downloading C:\\Users\\oneq\\.dgl\\cora_v2.zip from https://data.dgl.ai/dataset/cora_v2.zip...\n",
      "Extracting file to C:\\Users\\oneq\\.dgl\\cora_v2_d697a464\n",
      "Finished data loading and preprocessing.\n",
      "  NumNodes: 2708\n",
      "  NumEdges: 10556\n",
      "  NumFeats: 1433\n",
      "  NumClasses: 7\n",
      "  NumTrainingSamples: 140\n",
      "  NumValidationSamples: 500\n",
      "  NumTestSamples: 1000\n",
      "Done saving data into cached files.\n",
      "Number of categories: 7\n"
     ]
    }
   ],
   "execution_count": 2
  },
  {
   "cell_type": "markdown",
   "metadata": {},
   "source": [
    "A DGL Dataset object may contain one or multiple graphs. The Cora\ndataset used in this tutorial only consists of one single graph.\n\n\n"
   ]
  },
  {
   "cell_type": "code",
   "metadata": {
    "collapsed": false,
    "ExecuteTime": {
     "end_time": "2025-05-04T06:33:57.614304Z",
     "start_time": "2025-05-04T06:33:57.602153Z"
    }
   },
   "source": [
    "g = dataset[0]"
   ],
   "outputs": [],
   "execution_count": 3
  },
  {
   "cell_type": "markdown",
   "metadata": {},
   "source": [
    "A DGL graph can store node features and edge features in two\ndictionary-like attributes called ``ndata`` and ``edata``.\nIn the DGL Cora dataset, the graph contains the following node features:\n\n- ``train_mask``: A boolean tensor indicating whether the node is in the\n  training set.\n\n- ``val_mask``: A boolean tensor indicating whether the node is in the\n  validation set.\n\n- ``test_mask``: A boolean tensor indicating whether the node is in the\n  test set.\n\n- ``label``: The ground truth node category.\n\n-  ``feat``: The node features.\n\n\n"
   ]
  },
  {
   "cell_type": "code",
   "metadata": {
    "collapsed": false,
    "ExecuteTime": {
     "end_time": "2025-05-04T06:33:59.777039Z",
     "start_time": "2025-05-04T06:33:59.752823Z"
    }
   },
   "source": [
    "print(\"Node features\")\nprint(g.ndata)\nprint(\"Edge features\")\nprint(g.edata)"
   ],
   "outputs": [
    {
     "name": "stdout",
     "output_type": "stream",
     "text": [
      "Node features\n",
      "{'train_mask': tensor([ True,  True,  True,  ..., False, False, False]), 'val_mask': tensor([False, False, False,  ..., False, False, False]), 'test_mask': tensor([False, False, False,  ...,  True,  True,  True]), 'label': tensor([3, 4, 4,  ..., 3, 3, 3]), 'feat': tensor([[0., 0., 0.,  ..., 0., 0., 0.],\n",
      "        [0., 0., 0.,  ..., 0., 0., 0.],\n",
      "        [0., 0., 0.,  ..., 0., 0., 0.],\n",
      "        ...,\n",
      "        [0., 0., 0.,  ..., 0., 0., 0.],\n",
      "        [0., 0., 0.,  ..., 0., 0., 0.],\n",
      "        [0., 0., 0.,  ..., 0., 0., 0.]])}\n",
      "Edge features\n",
      "{}\n"
     ]
    }
   ],
   "execution_count": 4
  },
  {
   "cell_type": "markdown",
   "metadata": {},
   "source": [
    "## Defining a Graph Convolutional Network (GCN)\n\nThis tutorial will build a two-layer [Graph Convolutional Network\n(GCN)](http://tkipf.github.io/graph-convolutional-networks/)_. Each\nlayer computes new node representations by aggregating neighbor\ninformation.\n\nTo build a multi-layer GCN you can simply stack ``dgl.nn.GraphConv``\nmodules, which inherit ``torch.nn.Module``.\n\n\n"
   ]
  },
  {
   "cell_type": "code",
   "metadata": {
    "collapsed": false,
    "ExecuteTime": {
     "end_time": "2025-05-04T06:34:03.393362Z",
     "start_time": "2025-05-04T06:34:03.379027Z"
    }
   },
   "source": [
    "from dgl.nn import GraphConv\n\n\nclass GCN(nn.Module):\n    def __init__(self, in_feats, h_feats, num_classes):\n        super(GCN, self).__init__()\n        self.conv1 = GraphConv(in_feats, h_feats)\n        self.conv2 = GraphConv(h_feats, num_classes)\n\n    def forward(self, g, in_feat):\n        h = self.conv1(g, in_feat)\n        h = F.relu(h)\n        h = self.conv2(g, h)\n        return h\n\n\n# Create the model with given dimensions\nmodel = GCN(g.ndata[\"feat\"].shape[1], 16, dataset.num_classes)"
   ],
   "outputs": [],
   "execution_count": 5
  },
  {
   "cell_type": "markdown",
   "metadata": {},
   "source": [
    "DGL provides implementation of many popular neighbor aggregation\nmodules. You can easily invoke them with one line of code.\n\n\n"
   ]
  },
  {
   "cell_type": "markdown",
   "metadata": {},
   "source": [
    "## Training the GCN\n\nTraining this GCN is similar to training other PyTorch neural networks.\n\n\n"
   ]
  },
  {
   "cell_type": "code",
   "metadata": {
    "collapsed": false,
    "ExecuteTime": {
     "end_time": "2025-05-04T06:34:10.975749Z",
     "start_time": "2025-05-04T06:34:08.249649Z"
    }
   },
   "source": [
    "def train(g, model):\n    optimizer = torch.optim.Adam(model.parameters(), lr=0.01)\n    best_val_acc = 0\n    best_test_acc = 0\n\n    features = g.ndata[\"feat\"]\n    labels = g.ndata[\"label\"]\n    train_mask = g.ndata[\"train_mask\"]\n    val_mask = g.ndata[\"val_mask\"]\n    test_mask = g.ndata[\"test_mask\"]\n    for e in range(100):\n        # Forward\n        logits = model(g, features)\n\n        # Compute prediction\n        pred = logits.argmax(1)\n\n        # Compute loss\n        # Note that you should only compute the losses of the nodes in the training set.\n        loss = F.cross_entropy(logits[train_mask], labels[train_mask])\n\n        # Compute accuracy on training/validation/test\n        train_acc = (pred[train_mask] == labels[train_mask]).float().mean()\n        val_acc = (pred[val_mask] == labels[val_mask]).float().mean()\n        test_acc = (pred[test_mask] == labels[test_mask]).float().mean()\n\n        # Save the best validation accuracy and the corresponding test accuracy.\n        if best_val_acc < val_acc:\n            best_val_acc = val_acc\n            best_test_acc = test_acc\n\n        # Backward\n        optimizer.zero_grad()\n        loss.backward()\n        optimizer.step()\n\n        if e % 5 == 0:\n            print(\n                f\"In epoch {e}, loss: {loss:.3f}, val acc: {val_acc:.3f} (best {best_val_acc:.3f}), test acc: {test_acc:.3f} (best {best_test_acc:.3f})\"\n            )\n\n\nmodel = GCN(g.ndata[\"feat\"].shape[1], 16, dataset.num_classes)\ntrain(g, model)"
   ],
   "outputs": [
    {
     "name": "stdout",
     "output_type": "stream",
     "text": [
      "In epoch 0, loss: 1.946, val acc: 0.134 (best 0.134), test acc: 0.131 (best 0.131)\n",
      "In epoch 5, loss: 1.894, val acc: 0.492 (best 0.522), test acc: 0.482 (best 0.529)\n",
      "In epoch 10, loss: 1.812, val acc: 0.578 (best 0.592), test acc: 0.588 (best 0.593)\n",
      "In epoch 15, loss: 1.704, val acc: 0.674 (best 0.674), test acc: 0.679 (best 0.679)\n",
      "In epoch 20, loss: 1.572, val acc: 0.702 (best 0.702), test acc: 0.722 (best 0.722)\n",
      "In epoch 25, loss: 1.420, val acc: 0.710 (best 0.712), test acc: 0.751 (best 0.750)\n",
      "In epoch 30, loss: 1.252, val acc: 0.722 (best 0.724), test acc: 0.749 (best 0.748)\n",
      "In epoch 35, loss: 1.078, val acc: 0.736 (best 0.736), test acc: 0.753 (best 0.753)\n",
      "In epoch 40, loss: 0.907, val acc: 0.754 (best 0.754), test acc: 0.761 (best 0.761)\n",
      "In epoch 45, loss: 0.748, val acc: 0.766 (best 0.766), test acc: 0.762 (best 0.763)\n",
      "In epoch 50, loss: 0.610, val acc: 0.762 (best 0.766), test acc: 0.766 (best 0.763)\n",
      "In epoch 55, loss: 0.493, val acc: 0.764 (best 0.766), test acc: 0.773 (best 0.763)\n",
      "In epoch 60, loss: 0.398, val acc: 0.766 (best 0.770), test acc: 0.770 (best 0.774)\n",
      "In epoch 65, loss: 0.323, val acc: 0.764 (best 0.770), test acc: 0.778 (best 0.774)\n",
      "In epoch 70, loss: 0.263, val acc: 0.762 (best 0.770), test acc: 0.778 (best 0.774)\n",
      "In epoch 75, loss: 0.216, val acc: 0.774 (best 0.774), test acc: 0.783 (best 0.783)\n",
      "In epoch 80, loss: 0.179, val acc: 0.774 (best 0.774), test acc: 0.783 (best 0.783)\n",
      "In epoch 85, loss: 0.151, val acc: 0.778 (best 0.778), test acc: 0.785 (best 0.784)\n",
      "In epoch 90, loss: 0.128, val acc: 0.782 (best 0.782), test acc: 0.786 (best 0.786)\n",
      "In epoch 95, loss: 0.109, val acc: 0.782 (best 0.782), test acc: 0.786 (best 0.786)\n"
     ]
    }
   ],
   "execution_count": 6
  },
  {
   "cell_type": "markdown",
   "metadata": {},
   "source": [
    "## Training on GPU\n\nTraining on GPU requires to put both the model and the graph onto GPU\nwith the ``to`` method, similar to what you will do in PyTorch.\n\n.. code:: python\n\n   g = g.to('cuda')\n   model = GCN(g.ndata['feat'].shape[1], 16, dataset.num_classes).to('cuda')\n   train(g, model)\n\n\n"
   ]
  },
  {
   "cell_type": "markdown",
   "metadata": {},
   "source": [
    "## What’s next?\n\n-  :doc:`How does DGL represent a graph <2_dglgraph>`?\n-  :doc:`Write your own GNN module <3_message_passing>`.\n-  :doc:`Link prediction (predicting existence of edges) on full\n   graph <4_link_predict>`.\n-  :doc:`Graph classification <5_graph_classification>`.\n-  :doc:`Make your own dataset <6_load_data>`.\n-  `The list of supported graph convolution\n   modules <apinn-pytorch>`.\n-  `The list of datasets provided by DGL <apidata>`.\n\n\n"
   ]
  },
  {
   "cell_type": "code",
   "execution_count": null,
   "metadata": {
    "collapsed": false
   },
   "outputs": [],
   "source": [
    "# Thumbnail credits: Stanford CS224W Notes\n# sphinx_gallery_thumbnail_path = '_static/blitz_1_introduction.png'"
   ]
  }
 ],
 "metadata": {
  "kernelspec": {
   "display_name": "Python 3",
   "language": "python",
   "name": "python3"
  },
  "language_info": {
   "codemirror_mode": {
    "name": "ipython",
    "version": 3
   },
   "file_extension": ".py",
   "mimetype": "text/x-python",
   "name": "python",
   "nbconvert_exporter": "python",
   "pygments_lexer": "ipython3",
   "version": "3.10.15"
  }
 },
 "nbformat": 4,
 "nbformat_minor": 0
}
