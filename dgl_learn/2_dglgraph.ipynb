{
 "cells": [
  {
   "cell_type": "markdown",
   "metadata": {},
   "source": [
    "\n# How Does DGL Represent A Graph?\n\nBy the end of this tutorial you will be able to:\n\n-  Construct a graph in DGL from scratch.\n-  Assign node and edge features to a graph.\n-  Query properties of a DGL graph such as node degrees and\n   connectivity.\n-  Transform a DGL graph into another graph.\n-  Load and save DGL graphs.\n\n(Time estimate: 16 minutes)\n"
   ]
  },
  {
   "cell_type": "markdown",
   "metadata": {},
   "source": [
    "## DGL Graph Construction\n\nDGL represents a directed graph as a ``DGLGraph`` object. You can\nconstruct a graph by specifying the number of nodes in the graph as well\nas the list of source and destination nodes.  Nodes in the graph have\nconsecutive IDs starting from 0.\n\nFor instance, the following code constructs a directed star graph with 5\nleaves. The center node's ID is 0. The edges go from the\ncenter node to the leaves.\n\n\n"
   ]
  },
  {
   "cell_type": "code",
   "metadata": {
    "collapsed": false,
    "ExecuteTime": {
     "end_time": "2025-05-04T07:12:35.136749Z",
     "start_time": "2025-05-04T07:12:35.127568Z"
    }
   },
   "source": [
    "import os\n\nos.environ[\"DGLBACKEND\"] = \"pytorch\"\nimport dgl\nimport numpy as np\nimport torch\n\ng = dgl.graph(([0, 0, 0, 0, 0], [1, 2, 3, 4, 5]), num_nodes=6)\n# Equivalently, PyTorch LongTensors also work.\ng = dgl.graph(\n    (torch.LongTensor([0, 0, 0, 0, 0]), torch.LongTensor([1, 2, 3, 4, 5])),\n    num_nodes=6,\n)\n\n# You can omit the number of nodes argument if you can tell the number of nodes from the edge list alone.\ng = dgl.graph(([0, 0, 0, 0, 0], [1, 2, 3, 4, 5]))"
   ],
   "outputs": [],
   "execution_count": 13
  },
  {
   "cell_type": "markdown",
   "metadata": {},
   "source": [
    "Edges in the graph have consecutive IDs starting from 0, and are\nin the same order as the list of source and destination nodes during\ncreation.\n\n\n"
   ]
  },
  {
   "cell_type": "code",
   "metadata": {
    "collapsed": false,
    "ExecuteTime": {
     "end_time": "2025-05-04T07:12:35.169558Z",
     "start_time": "2025-05-04T07:12:35.149040Z"
    }
   },
   "source": [
    "# Print the source and destination nodes of every edge.\nprint(g.edges())"
   ],
   "outputs": [
    {
     "name": "stdout",
     "output_type": "stream",
     "text": [
      "(tensor([0, 0, 0, 0, 0]), tensor([1, 2, 3, 4, 5]))\n"
     ]
    }
   ],
   "execution_count": 14
  },
  {
   "cell_type": "markdown",
   "metadata": {},
   "source": [
    "<div class=\"alert alert-info\"><h4>Note</h4><p>``DGLGraph``'s are always directed to best fit the computation\n   pattern of graph neural networks, where the messages sent\n   from one node to the other are often different between both\n   directions. If you want to handle undirected graphs, you may consider\n   treating it as a bidirectional graph. See `Graph\n   Transformations`_ for an example of making\n   a bidirectional graph.</p></div>\n\n\n"
   ]
  },
  {
   "cell_type": "markdown",
   "metadata": {},
   "source": [
    "## Assigning Node and Edge Features to Graph\n\nMany graph data contain attributes on nodes and edges.\nAlthough the types of node and edge attributes can be arbitrary in real\nworld, ``DGLGraph`` only accepts attributes stored in tensors (with\nnumerical contents). Consequently, an attribute of all the nodes or\nedges must have the same shape. In the context of deep learning, those\nattributes are often called *features*.\n\nYou can assign and retrieve node and edge features via ``ndata`` and\n``edata`` interface.\n\n\n"
   ]
  },
  {
   "cell_type": "code",
   "metadata": {
    "collapsed": false,
    "ExecuteTime": {
     "end_time": "2025-05-04T07:12:35.197815Z",
     "start_time": "2025-05-04T07:12:35.181559Z"
    }
   },
   "source": [
    "# Assign a 3-dimensional node feature vector for each node.\ng.ndata[\"x\"] = torch.randn(6, 3)\n# Assign a 4-dimensional edge feature vector for each edge.\ng.edata[\"a\"] = torch.randn(5, 4)\n# Assign a 5x4 node feature matrix for each node.  Node and edge features in DGL can be multi-dimensional.\ng.ndata[\"y\"] = torch.randn(6, 5, 4)\n\nprint(g.edata[\"a\"])"
   ],
   "outputs": [
    {
     "name": "stdout",
     "output_type": "stream",
     "text": [
      "tensor([[ 1.7959,  0.8429,  1.3130,  0.7780],\n",
      "        [ 0.0139, -0.0076,  0.0405, -0.8805],\n",
      "        [ 0.2978, -0.7777,  1.2424,  0.2165],\n",
      "        [-0.5678,  3.6504, -2.3856, -0.8811],\n",
      "        [-0.3950,  0.4106, -0.9297,  1.7812]])\n"
     ]
    }
   ],
   "execution_count": 15
  },
  {
   "cell_type": "markdown",
   "metadata": {},
   "source": [
    "<div class=\"alert alert-info\"><h4>Note</h4><p>The vast development of deep learning has provided us many\n   ways to encode various types of attributes into numerical features.\n   Here are some general suggestions:\n\n   -  For categorical attributes (e.g. gender, occupation), consider\n      converting them to integers or one-hot encoding.\n   -  For variable length string contents (e.g. news article, quote),\n      consider applying a language model.\n   -  For images, consider applying a vision model such as CNNs.\n\n   You can find plenty of materials on how to encode such attributes\n   into a tensor in the [PyTorch Deep Learning\n   Tutorials](https://pytorch.org/tutorials/)_.</p></div>\n\n\n"
   ]
  },
  {
   "cell_type": "markdown",
   "metadata": {},
   "source": [
    "## Querying Graph Structures\n\n``DGLGraph`` object provides various methods to query a graph structure.\n\n\n"
   ]
  },
  {
   "cell_type": "code",
   "metadata": {
    "collapsed": false,
    "ExecuteTime": {
     "end_time": "2025-05-04T07:12:35.226250Z",
     "start_time": "2025-05-04T07:12:35.213778Z"
    }
   },
   "source": [
    "print(g.num_nodes())\n",
    "print(g.num_edges())\n",
    "# Out degrees of the center node\n",
    "print(g.out_degrees(0))\n",
    "# In degrees of the center node - note that the data_graph is directed so the in degree should be 0.\n",
    "print(g.in_degrees(0))"
   ],
   "outputs": [
    {
     "name": "stdout",
     "output_type": "stream",
     "text": [
      "6\n",
      "5\n",
      "5\n",
      "0\n"
     ]
    }
   ],
   "execution_count": 16
  },
  {
   "cell_type": "markdown",
   "metadata": {},
   "source": [
    "## Graph Transformations\n\n\n"
   ]
  },
  {
   "cell_type": "markdown",
   "metadata": {},
   "source": [
    "DGL provides many APIs to transform a graph to another such as\nextracting a subgraph:\n\n\n"
   ]
  },
  {
   "cell_type": "code",
   "metadata": {
    "collapsed": false,
    "ExecuteTime": {
     "end_time": "2025-05-04T07:12:35.270299Z",
     "start_time": "2025-05-04T07:12:35.254563Z"
    }
   },
   "source": [
    "# Induce a subgraph from node 0, node 1 and node 3 from the original data_graph.\n",
    "sg1 = g.subgraph([0, 1, 3])\n",
    "# Induce a subgraph from edge 0, edge 1 and edge 3 from the original data_graph.\n",
    "sg2 = g.edge_subgraph([0, 1, 3])"
   ],
   "outputs": [],
   "execution_count": 17
  },
  {
   "cell_type": "markdown",
   "metadata": {},
   "source": [
    "You can obtain the node/edge mapping from the subgraph to the original\ngraph by looking into the node feature ``dgl.NID`` or edge feature\n``dgl.EID`` in the new graph.\n\n\n"
   ]
  },
  {
   "cell_type": "code",
   "metadata": {
    "collapsed": false,
    "ExecuteTime": {
     "end_time": "2025-05-04T07:12:35.301468Z",
     "start_time": "2025-05-04T07:12:35.290010Z"
    }
   },
   "source": [
    "# The original IDs of each node in sg1\nprint(sg1.ndata[dgl.NID])\n# The original IDs of each edge in sg1\nprint(sg1.edata[dgl.EID])\n# The original IDs of each node in sg2\nprint(sg2.ndata[dgl.NID])\n# The original IDs of each edge in sg2\nprint(sg2.edata[dgl.EID])"
   ],
   "outputs": [
    {
     "name": "stdout",
     "output_type": "stream",
     "text": [
      "tensor([0, 1, 3])\n",
      "tensor([0, 2])\n",
      "tensor([0, 1, 2, 4])\n",
      "tensor([0, 1, 3])\n"
     ]
    }
   ],
   "execution_count": 18
  },
  {
   "cell_type": "markdown",
   "metadata": {},
   "source": [
    "``subgraph`` and ``edge_subgraph`` also copies the original features\nto the subgraph:\n\n\n"
   ]
  },
  {
   "cell_type": "code",
   "metadata": {
    "collapsed": false,
    "ExecuteTime": {
     "end_time": "2025-05-04T07:12:35.331827Z",
     "start_time": "2025-05-04T07:12:35.318411Z"
    }
   },
   "source": [
    "# The original node feature of each node in sg1\nprint(sg1.ndata[\"x\"])\n# The original edge feature of each node in sg1\nprint(sg1.edata[\"a\"])\n# The original node feature of each node in sg2\nprint(sg2.ndata[\"x\"])\n# The original edge feature of each node in sg2\nprint(sg2.edata[\"a\"])"
   ],
   "outputs": [
    {
     "name": "stdout",
     "output_type": "stream",
     "text": [
      "tensor([[-0.5629, -0.6900, -0.3350],\n",
      "        [-1.8480,  1.1612,  0.7747],\n",
      "        [-0.5874,  0.7947,  0.5707]])\n",
      "tensor([[ 1.7959,  0.8429,  1.3130,  0.7780],\n",
      "        [ 0.2978, -0.7777,  1.2424,  0.2165]])\n",
      "tensor([[-0.5629, -0.6900, -0.3350],\n",
      "        [-1.8480,  1.1612,  0.7747],\n",
      "        [-0.6788,  1.3099,  0.6060],\n",
      "        [-1.1025, -0.9670, -0.3882]])\n",
      "tensor([[ 1.7959,  0.8429,  1.3130,  0.7780],\n",
      "        [ 0.0139, -0.0076,  0.0405, -0.8805],\n",
      "        [-0.5678,  3.6504, -2.3856, -0.8811]])\n"
     ]
    }
   ],
   "execution_count": 19
  },
  {
   "cell_type": "markdown",
   "metadata": {},
   "source": [
    "Another common transformation is to add a reverse edge for each edge in\nthe original graph with ``dgl.add_reverse_edges``.\n\n<div class=\"alert alert-info\"><h4>Note</h4><p>If you have an undirected graph, it is better to convert it\n   into a bidirectional graph first via adding reverse edges.</p></div>\n\n\n"
   ]
  },
  {
   "cell_type": "code",
   "metadata": {
    "collapsed": false,
    "ExecuteTime": {
     "end_time": "2025-05-04T07:12:35.366018Z",
     "start_time": "2025-05-04T07:12:35.356556Z"
    }
   },
   "source": [
    "newg = dgl.add_reverse_edges(g)\nprint(newg.edges())"
   ],
   "outputs": [
    {
     "name": "stdout",
     "output_type": "stream",
     "text": [
      "(tensor([0, 0, 0, 0, 0, 1, 2, 3, 4, 5]), tensor([1, 2, 3, 4, 5, 0, 0, 0, 0, 0]))\n"
     ]
    }
   ],
   "execution_count": 20
  },
  {
   "cell_type": "markdown",
   "metadata": {},
   "source": [
    "## Loading and Saving Graphs\n\nYou can save a graph or a list of graphs via ``dgl.save_graphs`` and\nload them back with ``dgl.load_graphs``.\n\n\n"
   ]
  },
  {
   "cell_type": "code",
   "metadata": {
    "collapsed": false,
    "ExecuteTime": {
     "end_time": "2025-05-04T07:12:35.429539Z",
     "start_time": "2025-05-04T07:12:35.391149Z"
    }
   },
   "source": [
    "# Save graphs\n",
    "dgl.save_graphs(\"data_graph.dgl\", g)\n",
    "dgl.save_graphs(\"graphs.dgl\", [g, sg1, sg2])\n",
    "\n",
    "# Load graphs\n",
    "(g,), _ = dgl.load_graphs(\"data_graph.dgl\")\n",
    "print(g)\n",
    "(g, sg1, sg2), _ = dgl.load_graphs(\"graphs.dgl\")\n",
    "print(g)\n",
    "print(sg1)\n",
    "print(sg2)"
   ],
   "outputs": [
    {
     "name": "stdout",
     "output_type": "stream",
     "text": [
      "Graph(num_nodes=6, num_edges=5,\n",
      "      ndata_schemes={'x': Scheme(shape=(3,), dtype=torch.float32), 'y': Scheme(shape=(5, 4), dtype=torch.float32)}\n",
      "      edata_schemes={'a': Scheme(shape=(4,), dtype=torch.float32)})\n",
      "Graph(num_nodes=6, num_edges=5,\n",
      "      ndata_schemes={'x': Scheme(shape=(3,), dtype=torch.float32), 'y': Scheme(shape=(5, 4), dtype=torch.float32)}\n",
      "      edata_schemes={'a': Scheme(shape=(4,), dtype=torch.float32)})\n",
      "Graph(num_nodes=3, num_edges=2,\n",
      "      ndata_schemes={'x': Scheme(shape=(3,), dtype=torch.float32), 'y': Scheme(shape=(5, 4), dtype=torch.float32), '_ID': Scheme(shape=(), dtype=torch.int64)}\n",
      "      edata_schemes={'a': Scheme(shape=(4,), dtype=torch.float32), '_ID': Scheme(shape=(), dtype=torch.int64)})\n",
      "Graph(num_nodes=4, num_edges=3,\n",
      "      ndata_schemes={'x': Scheme(shape=(3,), dtype=torch.float32), 'y': Scheme(shape=(5, 4), dtype=torch.float32), '_ID': Scheme(shape=(), dtype=torch.int64)}\n",
      "      edata_schemes={'a': Scheme(shape=(4,), dtype=torch.float32), '_ID': Scheme(shape=(), dtype=torch.int64)})\n"
     ]
    }
   ],
   "execution_count": 21
  },
  {
   "cell_type": "markdown",
   "metadata": {},
   "source": [
    "## What’s next?\n\n-  See\n   `here <apigraph-querying-graph-structure>`\n   for a list of graph structure query APIs.\n-  See\n   `here <api-subgraph-extraction>`\n   for a list of subgraph extraction routines.\n-  See\n   `here <api-transform>`\n   for a list of graph transformation routines.\n-  API reference of :func:`dgl.save_graphs`\n   and\n   :func:`dgl.load_graphs`\n\n\n"
   ]
  },
  {
   "cell_type": "code",
   "metadata": {
    "collapsed": false,
    "ExecuteTime": {
     "end_time": "2025-05-04T07:12:35.503366Z",
     "start_time": "2025-05-04T07:12:35.494818Z"
    }
   },
   "source": [
    "# Thumbnail credits: Wikipedia\n# sphinx_gallery_thumbnail_path = '_static/blitz_2_dglgraph.png'"
   ],
   "outputs": [],
   "execution_count": 22
  },
  {
   "metadata": {},
   "cell_type": "code",
   "outputs": [],
   "execution_count": null,
   "source": ""
  }
 ],
 "metadata": {
  "kernelspec": {
   "display_name": "Python 3",
   "language": "python",
   "name": "python3"
  },
  "language_info": {
   "codemirror_mode": {
    "name": "ipython",
    "version": 3
   },
   "file_extension": ".py",
   "mimetype": "text/x-python",
   "name": "python",
   "nbconvert_exporter": "python",
   "pygments_lexer": "ipython3",
   "version": "3.10.15"
  }
 },
 "nbformat": 4,
 "nbformat_minor": 0
}
